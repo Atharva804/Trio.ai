{
 "cells": [
  {
   "cell_type": "code",
   "execution_count": 20,
   "metadata": {},
   "outputs": [],
   "source": [
    "import pandas as pd\n",
    "import numpy as np\n",
    "from numpy.random import randn"
   ]
  },
  {
   "cell_type": "markdown",
   "metadata": {},
   "source": [
    "# Managing Incomplete Data"
   ]
  },
  {
   "cell_type": "code",
   "execution_count": 19,
   "metadata": {},
   "outputs": [
    {
     "data": {
      "text/html": [
       "<div>\n",
       "<style scoped>\n",
       "    .dataframe tbody tr th:only-of-type {\n",
       "        vertical-align: middle;\n",
       "    }\n",
       "\n",
       "    .dataframe tbody tr th {\n",
       "        vertical-align: top;\n",
       "    }\n",
       "\n",
       "    .dataframe thead th {\n",
       "        text-align: right;\n",
       "    }\n",
       "</style>\n",
       "<table border=\"1\" class=\"dataframe\">\n",
       "  <thead>\n",
       "    <tr style=\"text-align: right;\">\n",
       "      <th></th>\n",
       "      <th>A</th>\n",
       "      <th>B</th>\n",
       "      <th>C</th>\n",
       "      <th>D</th>\n",
       "    </tr>\n",
       "  </thead>\n",
       "  <tbody>\n",
       "    <tr>\n",
       "      <th>0</th>\n",
       "      <td>1</td>\n",
       "      <td>4.0</td>\n",
       "      <td>7.0</td>\n",
       "      <td>10</td>\n",
       "    </tr>\n",
       "    <tr>\n",
       "      <th>1</th>\n",
       "      <td>2</td>\n",
       "      <td>NaN</td>\n",
       "      <td>NaN</td>\n",
       "      <td>11</td>\n",
       "    </tr>\n",
       "    <tr>\n",
       "      <th>2</th>\n",
       "      <td>3</td>\n",
       "      <td>6.0</td>\n",
       "      <td>NaN</td>\n",
       "      <td>12</td>\n",
       "    </tr>\n",
       "  </tbody>\n",
       "</table>\n",
       "</div>"
      ],
      "text/plain": [
       "   A    B    C   D\n",
       "0  1  4.0  7.0  10\n",
       "1  2  NaN  NaN  11\n",
       "2  3  6.0  NaN  12"
      ]
     },
     "execution_count": 19,
     "metadata": {},
     "output_type": "execute_result"
    }
   ],
   "source": [
    "#Creating dataframe\n",
    "stuff = {'A': [1,2,3], 'B': [4,np.nan,6], 'C': [7,np.nan,np.nan], 'D': [10,11,12]}\n",
    "my_df = pd.DataFrame(stuff)\n",
    "my_df"
   ]
  },
  {
   "cell_type": "code",
   "execution_count": 18,
   "metadata": {},
   "outputs": [
    {
     "name": "stdout",
     "output_type": "stream",
     "text": [
      "   A    B    C   D\n",
      "0  1  4.0  7.0  10\n",
      "   A   D\n",
      "0  1  10\n",
      "1  2  11\n",
      "2  3  12\n",
      "   A    B    C   D\n",
      "0  1  4.0  7.0  10\n",
      "1  2  NaN  NaN  11\n",
      "2  3  6.0  NaN  12\n",
      "   A    B   D\n",
      "0  1  4.0  10\n",
      "1  2  NaN  11\n",
      "2  3  6.0  12\n",
      "   A      B      C   D\n",
      "0  1    4.0    7.0  10\n",
      "1  2  hello  hello  11\n",
      "2  3    6.0  hello  12\n",
      "   A    B    C   D\n",
      "0  1  4.0  7.0  10\n",
      "1  2  5.0  5.0  11\n",
      "2  3  6.0  5.0  12\n",
      "   A    B    C   D\n",
      "0  1  4.0  7.0  10\n",
      "1  2  4.0  4.0  11\n",
      "2  3  6.0  4.0  12\n",
      "   A    B    C   D\n",
      "0  1  4.0  7.0  10\n",
      "1  2  6.0  6.0  11\n",
      "2  3  6.0  6.0  12\n",
      "   A     B     C   D\n",
      "0  1   4.0   7.0  10\n",
      "1  2  10.0  10.0  11\n",
      "2  3   6.0  10.0  12\n"
     ]
    }
   ],
   "source": [
    "print(my_df.dropna()) #Drop row with null values\n",
    "print(my_df.dropna(axis=1)) #Drop column with null values\n",
    "print(my_df)\n",
    "print(my_df.dropna(thresh=2, axis=1)) #Will drop column with 2 null values\n",
    "print(my_df.fillna(value=\"hello\")) #Will fill all the null values with hello\n",
    "print(my_df.fillna(value=my_df['B'].mean())) #We can use math functions as well\n",
    "print(my_df.fillna(value=my_df['B'].min())) #We can use math functions as well\n",
    "print(my_df.fillna(value=my_df['B'].max())) #We can use math functions as well\n",
    "print(my_df.fillna(value=my_df['B'].sum())) #We can use math functions as well\n"
   ]
  },
  {
   "cell_type": "markdown",
   "metadata": {},
   "source": [
    "# Group by"
   ]
  },
  {
   "cell_type": "code",
   "execution_count": 31,
   "metadata": {},
   "outputs": [
    {
     "name": "stdout",
     "output_type": "stream",
     "text": [
      "  Coorporation  Salary\n",
      "0        Apple     200\n",
      "1       Google     220\n",
      "2         Meta     190\n",
      "3        Apple     130\n",
      "4       Google     120\n",
      "5        Meta,     150\n",
      "<pandas.core.groupby.generic.DataFrameGroupBy object at 0x0000019CD29730B0>\n",
      "              Salary\n",
      "Coorporation        \n",
      "Apple            330\n",
      "Google           340\n",
      "Meta             190\n",
      "Meta,            150\n",
      "              Salary\n",
      "Coorporation        \n",
      "Apple          165.0\n",
      "Google         170.0\n",
      "Meta           190.0\n",
      "Meta,          150.0\n",
      "              Salary\n",
      "Coorporation        \n",
      "Apple            200\n",
      "Google           220\n",
      "Meta             190\n",
      "Meta,            150\n",
      "              Salary\n",
      "Coorporation        \n",
      "Apple            130\n",
      "Google           120\n",
      "Meta             190\n",
      "Meta,            150\n",
      "                 Salary\n",
      "Coorporation           \n",
      "Apple         49.497475\n",
      "Google        70.710678\n",
      "Meta                NaN\n",
      "Meta,               NaN\n",
      "              Salary\n",
      "Coorporation        \n",
      "Apple         2450.0\n",
      "Google        5000.0\n",
      "Meta             NaN\n",
      "Meta,            NaN\n",
      "              Salary\n",
      "Coorporation        \n",
      "Apple              2\n",
      "Google             2\n",
      "Meta               1\n",
      "Meta,              1\n",
      "             Salary                                                     \n",
      "              count   mean        std    min    25%    50%    75%    max\n",
      "Coorporation                                                            \n",
      "Apple           2.0  165.0  49.497475  130.0  147.5  165.0  182.5  200.0\n",
      "Google          2.0  170.0  70.710678  120.0  145.0  170.0  195.0  220.0\n",
      "Meta            1.0  190.0        NaN  190.0  190.0  190.0  190.0  190.0\n",
      "Meta,           1.0  150.0        NaN  150.0  150.0  150.0  150.0  150.0\n"
     ]
    }
   ],
   "source": [
    "stuff2 = {\n",
    "    'Coorporation': ['Apple', 'Google', 'Meta', 'Apple', 'Google', 'Meta,'],\n",
    "    # 'Employees': ['John', 'April', 'Wes', 'Beth', 'Justin', 'Steph'],\n",
    "    'Salary' : [200, 220, 190, 130, 120, 150]\n",
    "}\n",
    "my_df2 = pd.DataFrame(stuff2)\n",
    "print(my_df2)\n",
    "company = my_df2.groupby('Coorporation')\n",
    "print(company)\n",
    "print(company.sum())\n",
    "print(company.mean()) #to run this remove employees from stuff2 dict\n",
    "print(company.max()) #to run this remove employees from stuff2 dict\n",
    "print(company.min()) #to run this remove employees from stuff2 dict\n",
    "print(company.std()) #to run this remove employees from stuff2 dict\n",
    "print(company.var()) #to run this remove employees from stuff2 dict\n",
    "print(company.count()) #to run this remove employees from stuff2 dict\n",
    "print(company.describe()) #to run this remove employees from stuff2 dict\n"
   ]
  }
 ],
 "metadata": {
  "kernelspec": {
   "display_name": "phase1",
   "language": "python",
   "name": "python3"
  },
  "language_info": {
   "codemirror_mode": {
    "name": "ipython",
    "version": 3
   },
   "file_extension": ".py",
   "mimetype": "text/x-python",
   "name": "python",
   "nbconvert_exporter": "python",
   "pygments_lexer": "ipython3",
   "version": "3.12.5"
  }
 },
 "nbformat": 4,
 "nbformat_minor": 2
}
