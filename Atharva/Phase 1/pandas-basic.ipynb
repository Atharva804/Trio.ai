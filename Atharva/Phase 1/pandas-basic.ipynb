{
 "cells": [
  {
   "cell_type": "code",
   "execution_count": 2,
   "metadata": {},
   "outputs": [],
   "source": [
    "import pandas as pd\n",
    "import numpy as np\n",
    "from numpy.random import randn"
   ]
  },
  {
   "cell_type": "markdown",
   "metadata": {},
   "source": [
    "# Trying basic methods and series"
   ]
  },
  {
   "cell_type": "code",
   "execution_count": null,
   "metadata": {},
   "outputs": [
    {
     "name": "stdout",
     "output_type": "stream",
     "text": [
      "0    4\n",
      "1    5\n",
      "2    6\n",
      "3    7\n",
      "dtype: int64\n",
      "6\n",
      "A    4\n",
      "B    5\n",
      "C    6\n",
      "D    7\n",
      "dtype: int64\n",
      "6\n"
     ]
    }
   ],
   "source": [
    "my_series = [4,5,6,7]\n",
    "my_var = pd.Series(my_series)\n",
    "print(my_var)\n",
    "print(my_var[2])\n",
    "my_index = ['A' , 'B', 'C', 'D']\n",
    "my_var2 = pd.Series(my_series, my_index)\n",
    "print(my_var2)\n",
    "print(my_var2[\"C\"])"
   ]
  },
  {
   "cell_type": "code",
   "execution_count": null,
   "metadata": {},
   "outputs": [
    {
     "name": "stdout",
     "output_type": "stream",
     "text": [
      "BMW      42\n",
      "Audi      8\n",
      "Tesla    86\n",
      "dtype: int64\n"
     ]
    }
   ],
   "source": [
    "#Using Dictionary\n",
    "cars = {\"BMW\": 42, \"Audi\": 8, \"Tesla\": 86}\n",
    "my_var3 = pd.Series(cars)\n",
    "print(my_var3)"
   ]
  },
  {
   "cell_type": "markdown",
   "metadata": {},
   "source": [
    "# Dataframes"
   ]
  },
  {
   "cell_type": "code",
   "execution_count": 9,
   "metadata": {},
   "outputs": [
    {
     "name": "stdout",
     "output_type": "stream",
     "text": [
      "     Monday   Tuesday  Wednesday  Thursday\n",
      "A -0.903116 -1.388243   1.789452  1.049436\n",
      "B -0.130716  0.198137   0.756844  1.052647\n",
      "C -1.007833  0.193588   0.002066 -1.184150\n",
      "D  0.876511 -1.347601  -0.686426 -0.171527\n",
      "                    Breed              Color        DogName  OwnerZip\n",
      "0                COCKAPOO              BROWN        CHARLEY     15236\n",
      "1            GER SHEPHERD        BLACK/BROWN         TACODA     15238\n",
      "2           BELG MALINOIS            BRINDLE           EICH     15238\n",
      "3                   MIXED        BLACK/BROWN          ARROW     15104\n",
      "4     AM PIT BULL TERRIER        WHITE/BROWN         OAKLEY     15139\n",
      "...                   ...                ...            ...       ...\n",
      "2665         GOLDENDOODLE              BROWN        WINSLOW     15044\n",
      "2666    YORKSHIRE TERRIER        BLACK/BROWN  ROCKY KALAKOS     15220\n",
      "2667              LAB MIX  WHITE/BLACK/BROWN          ELLIE     15220\n",
      "2668         GOLDENDOODLE              WHITE       CLARENCE     15143\n",
      "2669    SHETLAND SHEEPDOG              BLACK        GRIFFIN     15136\n",
      "\n",
      "[2670 rows x 4 columns]\n",
      "Breed       COCKAPOO\n",
      "Color          BROWN\n",
      "DogName      CHARLEY\n",
      "OwnerZip       15236\n",
      "Name: 0, dtype: object\n",
      "           Breed    Color  DogName  OwnerZip\n",
      "0       COCKAPOO    BROWN  CHARLEY     15236\n",
      "2  BELG MALINOIS  BRINDLE     EICH     15238\n"
     ]
    }
   ],
   "source": [
    "my_data = randn(4, 4) #Rows Columns (will generate random number in rows and columns)\n",
    "my_rows = ['A', 'B', 'C', 'D']\n",
    "my_cols = [\"Monday\", \"Tuesday\", \"Wednesday\", \"Thursday\"]\n",
    "\n",
    "#Create dataframe\n",
    "my_df = pd.DataFrame(my_data, my_rows, my_cols)\n",
    "print(my_df)\n",
    "\n",
    "#Import a csv file\n",
    "my_df2 = pd.read_csv('dog_data.csv')\n",
    "print(my_df2)\n",
    "\n",
    "#Pulling out rows from csv dataframe\n",
    "print(my_df2.loc[0])\n",
    "print(my_df2.loc[[0, 2]])"
   ]
  },
  {
   "cell_type": "markdown",
   "metadata": {},
   "source": [
    "# Viewing Data"
   ]
  },
  {
   "cell_type": "code",
   "execution_count": null,
   "metadata": {},
   "outputs": [
    {
     "name": "stdout",
     "output_type": "stream",
     "text": [
      "                 Breed        Color  DogName  OwnerZip\n",
      "0             COCKAPOO        BROWN  CHARLEY     15236\n",
      "1         GER SHEPHERD  BLACK/BROWN   TACODA     15238\n",
      "2        BELG MALINOIS      BRINDLE     EICH     15238\n",
      "3                MIXED  BLACK/BROWN    ARROW     15104\n",
      "4  AM PIT BULL TERRIER  WHITE/BROWN   OAKLEY     15139\n",
      "                 Breed        Color            DogName  OwnerZip\n",
      "0             COCKAPOO        BROWN            CHARLEY     15236\n",
      "1         GER SHEPHERD  BLACK/BROWN             TACODA     15238\n",
      "2        BELG MALINOIS      BRINDLE               EICH     15238\n",
      "3                MIXED  BLACK/BROWN              ARROW     15104\n",
      "4  AM PIT BULL TERRIER  WHITE/BROWN             OAKLEY     15139\n",
      "5     SCOTTISH TERRIER        BLACK             BAILEY     15129\n",
      "6    YORKSHIRE TERRIER    BLACK/TAN  MIMI PEARL FOSTER     15090\n",
      "7        DACHSHUND MIX  WHITE/BROWN              LEROI     15101\n",
      "                  Breed              Color        DogName  OwnerZip\n",
      "2665       GOLDENDOODLE              BROWN        WINSLOW     15044\n",
      "2666  YORKSHIRE TERRIER        BLACK/BROWN  ROCKY KALAKOS     15220\n",
      "2667            LAB MIX  WHITE/BLACK/BROWN          ELLIE     15220\n",
      "2668       GOLDENDOODLE              WHITE       CLARENCE     15143\n",
      "2669  SHETLAND SHEEPDOG              BLACK        GRIFFIN     15136\n",
      "                   Breed              Color        DogName  OwnerZip\n",
      "2663  LABRADOR RETRIEVER              BROWN           NINO     15102\n",
      "2664  COCKER SPANIEL MIX        WHITE/BLACK           JACK     15102\n",
      "2665        GOLDENDOODLE              BROWN        WINSLOW     15044\n",
      "2666   YORKSHIRE TERRIER        BLACK/BROWN  ROCKY KALAKOS     15220\n",
      "2667             LAB MIX  WHITE/BLACK/BROWN          ELLIE     15220\n",
      "2668        GOLDENDOODLE              WHITE       CLARENCE     15143\n",
      "2669   SHETLAND SHEEPDOG              BLACK        GRIFFIN     15136\n",
      "<class 'pandas.core.frame.DataFrame'>\n",
      "RangeIndex: 2670 entries, 0 to 2669\n",
      "Data columns (total 4 columns):\n",
      " #   Column    Non-Null Count  Dtype \n",
      "---  ------    --------------  ----- \n",
      " 0   Breed     2670 non-null   object\n",
      " 1   Color     2665 non-null   object\n",
      " 2   DogName   2669 non-null   object\n",
      " 3   OwnerZip  2670 non-null   int64 \n",
      "dtypes: int64(1), object(3)\n",
      "memory usage: 83.6+ KB\n",
      "None\n",
      "\n",
      "           OwnerZip\n",
      "count   2670.000000\n",
      "mean   15268.109738\n",
      "std     2747.560641\n",
      "min    15003.000000\n",
      "25%    15102.000000\n",
      "50%    15136.000000\n",
      "75%    15227.000000\n",
      "max    97206.000000\n",
      "\n",
      "count      2670\n",
      "unique      185\n",
      "top       MIXED\n",
      "freq        235\n",
      "Name: Breed, dtype: object\n",
      "\n",
      "0             CHARLEY\n",
      "1              TACODA\n",
      "2                EICH\n",
      "3               ARROW\n",
      "4              OAKLEY\n",
      "            ...      \n",
      "2665          WINSLOW\n",
      "2666    ROCKY KALAKOS\n",
      "2667            ELLIE\n",
      "2668         CLARENCE\n",
      "2669          GRIFFIN\n",
      "Name: DogName, Length: 2670, dtype: object\n",
      "0                  COCKAPOO\n",
      "1              GER SHEPHERD\n",
      "2             BELG MALINOIS\n",
      "3                     MIXED\n",
      "4       AM PIT BULL TERRIER\n",
      "               ...         \n",
      "2665           GOLDENDOODLE\n",
      "2666      YORKSHIRE TERRIER\n",
      "2667                LAB MIX\n",
      "2668           GOLDENDOODLE\n",
      "2669      SHETLAND SHEEPDOG\n",
      "Name: Breed, Length: 2670, dtype: object\n",
      "0                   BROWN\n",
      "1             BLACK/BROWN\n",
      "2                 BRINDLE\n",
      "3             BLACK/BROWN\n",
      "4             WHITE/BROWN\n",
      "              ...        \n",
      "2665                BROWN\n",
      "2666          BLACK/BROWN\n",
      "2667    WHITE/BLACK/BROWN\n",
      "2668                WHITE\n",
      "2669                BLACK\n",
      "Name: Color, Length: 2670, dtype: object\n"
     ]
    }
   ],
   "source": [
    "print(my_df2.head())\n",
    "print(my_df2.head(8))\n",
    "print(my_df2.tail())\n",
    "print(my_df2.tail(7))\n",
    "print(my_df2.info())\n",
    "print(\"\")\n",
    "print(my_df2.describe())\n",
    "print(\"\")\n",
    "print(my_df2['Breed'].describe())\n",
    "print(\"\")\n",
    "print(my_df2[\"DogName\"])\n",
    "print(my_df2.Breed)\n",
    "print(my_df2.iloc[:, 1])"
   ]
  },
  {
   "cell_type": "markdown",
   "metadata": {},
   "source": [
    "# Counting Data"
   ]
  },
  {
   "cell_type": "code",
   "execution_count": null,
   "metadata": {},
   "outputs": [
    {
     "name": "stdout",
     "output_type": "stream",
     "text": [
      "Color\n",
      "BLACK                   371\n",
      "BROWN                   309\n",
      "WHITE                   226\n",
      "WHITE/BLACK             196\n",
      "BLACK/BROWN             183\n",
      "                       ... \n",
      "BLACK/ORANGE/BRINDLE      1\n",
      "BROWN/ORANGE              1\n",
      "BROWN/FAWN                1\n",
      "BLACK/BROWN/GREY          1\n",
      "BROWN/LIVER               1\n",
      "Name: count, Length: 72, dtype: int64\n",
      "Color\n",
      "BLACK                   13.921201\n",
      "BROWN                   11.594747\n",
      "WHITE                    8.480300\n",
      "WHITE/BLACK              7.354597\n",
      "BLACK/BROWN              6.866792\n",
      "                          ...    \n",
      "BLACK/ORANGE/BRINDLE     0.037523\n",
      "BROWN/ORANGE             0.037523\n",
      "BROWN/FAWN               0.037523\n",
      "BLACK/BROWN/GREY         0.037523\n",
      "BROWN/LIVER              0.037523\n",
      "Name: proportion, Length: 72, dtype: float64\n",
      "226\n"
     ]
    }
   ],
   "source": [
    "print(my_df2[\"Color\"].value_counts()) #total item count\n",
    "print(my_df2[\"Color\"].value_counts(normalize=True) * 100) #Relative frequency - percentage\n",
    "print(my_df2[\"Color\"].value_counts()['WHITE']) #Specific item count"
   ]
  },
  {
   "cell_type": "markdown",
   "metadata": {},
   "source": [
    "# Adding Columns"
   ]
  },
  {
   "cell_type": "code",
   "execution_count": 29,
   "metadata": {},
   "outputs": [
    {
     "name": "stdout",
     "output_type": "stream",
     "text": [
      "                 Breed        Color  DogName  OwnerZip  Gender\n",
      "0             COCKAPOO        BROWN  CHARLEY     15236    Male\n",
      "1         GER SHEPHERD  BLACK/BROWN   TACODA     15238    Male\n",
      "2        BELG MALINOIS      BRINDLE     EICH     15238  Female\n",
      "3                MIXED  BLACK/BROWN    ARROW     15104    Male\n",
      "4  AM PIT BULL TERRIER  WHITE/BROWN   OAKLEY     15139  Female\n",
      "                 Breed        Color  DogName  OwnerZip  Gender  Alive/Dead\n",
      "0             COCKAPOO        BROWN  CHARLEY     15236    Male        True\n",
      "1         GER SHEPHERD  BLACK/BROWN   TACODA     15238    Male        True\n",
      "2        BELG MALINOIS      BRINDLE     EICH     15238  Female        True\n",
      "3                MIXED  BLACK/BROWN    ARROW     15104    Male        True\n",
      "4  AM PIT BULL TERRIER  WHITE/BROWN   OAKLEY     15139  Female        True\n",
      "                 Breed  Adopted        Color  DogName  OwnerZip  Gender  \\\n",
      "0             COCKAPOO     True        BROWN  CHARLEY     15236    Male   \n",
      "1         GER SHEPHERD     True  BLACK/BROWN   TACODA     15238    Male   \n",
      "2        BELG MALINOIS     True      BRINDLE     EICH     15238  Female   \n",
      "3                MIXED     True  BLACK/BROWN    ARROW     15104    Male   \n",
      "4  AM PIT BULL TERRIER     True  WHITE/BROWN   OAKLEY     15139  Female   \n",
      "\n",
      "   Alive/Dead  \n",
      "0        True  \n",
      "1        True  \n",
      "2        True  \n",
      "3        True  \n",
      "4        True  \n"
     ]
    }
   ],
   "source": [
    "my_df3 = pd.read_csv('dog_data_short.csv')\n",
    "gender = [\"Male\", \"Male\", \"Female\", \"Male\", \"Female\"] #Good for small data set\n",
    "my_df3[\"Gender\"] = gender\n",
    "print(my_df3)\n",
    "my_df3[\"Alive/Dead\"] = [True]*len(my_df3) #For adding default values\n",
    "print(my_df3)\n",
    "my_df3.insert(1, \"Adopted\", [True]*len(my_df3), True) #for inserting a column at specific position\n",
    "print(my_df3)\n",
    "#just like insert there is an assign method which creates a new dataframe while adding a new column\n",
    "# and keeping the original as it is.\n"
   ]
  },
  {
   "cell_type": "markdown",
   "metadata": {},
   "source": [
    "# Deletion"
   ]
  },
  {
   "cell_type": "code",
   "execution_count": 30,
   "metadata": {},
   "outputs": [
    {
     "name": "stdout",
     "output_type": "stream",
     "text": [
      "None\n",
      "                 Breed  Adopted        Color  DogName  OwnerZip  Gender\n",
      "0             COCKAPOO     True        BROWN  CHARLEY     15236    Male\n",
      "1         GER SHEPHERD     True  BLACK/BROWN   TACODA     15238    Male\n",
      "2        BELG MALINOIS     True      BRINDLE     EICH     15238  Female\n",
      "4  AM PIT BULL TERRIER     True  WHITE/BROWN   OAKLEY     15139  Female\n",
      "                 Breed  Adopted        Color  DogName  OwnerZip  Gender\n",
      "0             COCKAPOO     True        BROWN  CHARLEY     15236    Male\n",
      "1         GER SHEPHERD     True  BLACK/BROWN   TACODA     15238    Male\n",
      "3                MIXED     True  BLACK/BROWN    ARROW     15104    Male\n",
      "4  AM PIT BULL TERRIER     True  WHITE/BROWN   OAKLEY     15139  Female\n",
      "                 Breed  Adopted        Color  DogName  OwnerZip\n",
      "0             COCKAPOO     True        BROWN  CHARLEY     15236\n",
      "1         GER SHEPHERD     True  BLACK/BROWN   TACODA     15238\n",
      "2        BELG MALINOIS     True      BRINDLE     EICH     15238\n",
      "3                MIXED     True  BLACK/BROWN    ARROW     15104\n",
      "4  AM PIT BULL TERRIER     True  WHITE/BROWN   OAKLEY     15139\n"
     ]
    }
   ],
   "source": [
    "print(my_df3.drop(\"Alive/Dead\", axis=1, inplace=True)) #it will delete it temporarily if you want to delete it permanently\n",
    "#use another argument inplace=True\n",
    "# To delete columns use axis=1 argument to delete rows axis=0 or nothing\n",
    "print(my_df3.drop(3))\n",
    "print(my_df3.drop(2, axis=0))\n",
    "print(my_df3.drop(\"Gender\", axis=1))"
   ]
  },
  {
   "cell_type": "markdown",
   "metadata": {},
   "source": [
    "# Grab row point subset"
   ]
  },
  {
   "cell_type": "code",
   "execution_count": 8,
   "metadata": {},
   "outputs": [
    {
     "name": "stdout",
     "output_type": "stream",
     "text": [
      "Breed       BELG MALINOIS\n",
      "Adopted              True\n",
      "Color             BRINDLE\n",
      "DogName              EICH\n",
      "OwnerZip            15238\n",
      "Gender             Female\n",
      "Name: 2, dtype: object\n",
      "Breed             MIXED\n",
      "Adopted            True\n",
      "Color       BLACK/BROWN\n",
      "DogName           ARROW\n",
      "OwnerZip          15104\n",
      "Gender             Male\n",
      "Name: 3, dtype: object\n",
      "TACODA\n",
      "         Color         Breed\n",
      "1  BLACK/BROWN  GER SHEPHERD\n",
      "3  BLACK/BROWN         MIXED\n"
     ]
    }
   ],
   "source": [
    "print(my_df3.loc[2]) #To access with key\n",
    "print(my_df3.iloc[3]) #To access with index\n",
    "print(my_df3.loc[1, \"DogName\"]) #A specifc value my_df.loc[\"Row\", \"Column\"]\n",
    "print(my_df3.loc[[1, 3], [\"Color\", \"Breed\"]]) #Subsets - my_df.loc[['row', 'row'], [\"Column\", \"Column\"]]"
   ]
  },
  {
   "cell_type": "markdown",
   "metadata": {},
   "source": [
    "# Conditional Selection"
   ]
  },
  {
   "cell_type": "markdown",
   "metadata": {},
   "source": [
    "Single Conditional"
   ]
  },
  {
   "cell_type": "code",
   "execution_count": 12,
   "metadata": {},
   "outputs": [
    {
     "name": "stdout",
     "output_type": "stream",
     "text": [
      "     Breed  Color DogName  OwnerZip\n",
      "0      NaN  BROWN     NaN       NaN\n",
      "1      NaN    NaN     NaN       NaN\n",
      "2      NaN    NaN     NaN       NaN\n",
      "3      NaN    NaN     NaN       NaN\n",
      "4      NaN    NaN     NaN       NaN\n",
      "...    ...    ...     ...       ...\n",
      "2665   NaN  BROWN     NaN       NaN\n",
      "2666   NaN    NaN     NaN       NaN\n",
      "2667   NaN    NaN     NaN       NaN\n",
      "2668   NaN    NaN     NaN       NaN\n",
      "2669   NaN    NaN     NaN       NaN\n",
      "\n",
      "[2670 rows x 4 columns]\n",
      "0       BROWN\n",
      "1         NaN\n",
      "2         NaN\n",
      "3         NaN\n",
      "4         NaN\n",
      "        ...  \n",
      "2665    BROWN\n",
      "2666      NaN\n",
      "2667      NaN\n",
      "2668      NaN\n",
      "2669      NaN\n",
      "Name: Color, Length: 2670, dtype: object\n"
     ]
    }
   ],
   "source": [
    "print(my_df2[my_df2 == \"BROWN\"]) #To filter only BROWN color dogs\n",
    "print(my_df2[my_df2 == \"BROWN\"][\"Color\"]) #To filter only BROWN color dogs and show only color column\n"
   ]
  },
  {
   "cell_type": "markdown",
   "metadata": {},
   "source": [
    "Multiple Conditional"
   ]
  },
  {
   "cell_type": "code",
   "execution_count": 17,
   "metadata": {},
   "outputs": [
    {
     "name": "stdout",
     "output_type": "stream",
     "text": [
      "      Breed  Color        DogName  OwnerZip\n",
      "42    MIXED  BROWN         STELLA     15044\n",
      "272   MIXED  BROWN           HANK     15220\n",
      "371   MIXED  BROWN          TEDDY     15136\n",
      "402   MIXED  BROWN      GEORGIOUS     15212\n",
      "505   MIXED  BROWN        HERSHEY     15071\n",
      "523   MIXED  BROWN  MINDY MAZUREK     15037\n",
      "572   MIXED  BROWN          STEVE     15229\n",
      "584   MIXED  BROWN           BEAR     15122\n",
      "602   MIXED  BROWN          CHLOE     15106\n",
      "818   MIXED  BROWN         PEANUT     15025\n",
      "943   MIXED  BROWN        DEE DEE     15031\n",
      "946   MIXED  BROWN           SAGE     15035\n",
      "948   MIXED  BROWN          BELLA     15035\n",
      "995   MIXED  BROWN         MISTER     15139\n",
      "1006  MIXED  BROWN        VANESSA     15065\n",
      "1042  MIXED  BROWN           JACK     15223\n",
      "1123  MIXED  BROWN         BUDDIE     15122\n",
      "1195  MIXED  BROWN         COOPER     15071\n",
      "1204  MIXED  BROWN            POE     15044\n",
      "1211  MIXED  BROWN          EPPEY     15218\n",
      "1258  MIXED  BROWN           BLUE     15235\n",
      "1322  MIXED  BROWN         PHOEBE     15025\n",
      "1466  MIXED  BROWN          JAXIE     15229\n",
      "1476  MIXED  BROWN          PIPPA     15122\n",
      "1659  MIXED  BROWN         ISABEL     15044\n",
      "1780  MIXED  BROWN         WILBUR     15202\n",
      "1798  MIXED  BROWN           PINO     15139\n",
      "1847  MIXED  BROWN         MICKEY     15227\n",
      "2180  MIXED  BROWN           KONA     15102\n",
      "2351  MIXED  BROWN          BELLA     15209\n",
      "2393  MIXED  BROWN         PEANUT     15143\n",
      "2403  MIXED  BROWN           TOBY     15237\n",
      "2430  MIXED  BROWN           LUCY     15229\n",
      "2441  MIXED  BROWN          CASEY     15120\n",
      "2524  MIXED  BROWN         PEANUT     15227\n",
      "2562  MIXED  BROWN           JEFF     15146\n",
      "2581  MIXED  BROWN           BRAX     15143\n",
      "2597  MIXED  BROWN         BAILEY     15065\n",
      "38\n",
      "                   Breed        Color           DogName  OwnerZip\n",
      "0               COCKAPOO        BROWN           CHARLEY     15236\n",
      "3                  MIXED  BLACK/BROWN             ARROW     15104\n",
      "12      AM PITT BULL MIX        BROWN              KING     15235\n",
      "15                 MIXED        WHITE             RUSTY     15120\n",
      "25            BEAGLE MIX        BROWN  CHRISTINA \"TINA\"     15025\n",
      "...                  ...          ...               ...       ...\n",
      "2657        GER SHEPHERD        BROWN             SARAH     15239\n",
      "2658               MIXED        WHITE              LUNA     15017\n",
      "2660              PUGGLE        BROWN              MACY     15044\n",
      "2663  LABRADOR RETRIEVER        BROWN              NINO     15102\n",
      "2665        GOLDENDOODLE        BROWN           WINSLOW     15044\n",
      "\n",
      "[506 rows x 4 columns]\n",
      "506\n",
      "0                CHARLEY\n",
      "3                  ARROW\n",
      "12                  KING\n",
      "15                 RUSTY\n",
      "25      CHRISTINA \"TINA\"\n",
      "              ...       \n",
      "2657               SARAH\n",
      "2658                LUNA\n",
      "2660                MACY\n",
      "2663                NINO\n",
      "2665             WINSLOW\n",
      "Name: DogName, Length: 506, dtype: object\n"
     ]
    }
   ],
   "source": [
    "print(my_df2[(my_df2[\"Color\"] == \"BROWN\") & (my_df2[\"Breed\"] == \"MIXED\")]) #AND\n",
    "print(len(my_df2[(my_df2[\"Color\"] == \"BROWN\") & (my_df2[\"Breed\"] == \"MIXED\")])) #Length\n",
    "print(my_df2[(my_df2[\"Color\"] == \"BROWN\") | (my_df2[\"Breed\"] == \"MIXED\")]) #OR\n",
    "print(len(my_df2[(my_df2[\"Color\"] == \"BROWN\") | (my_df2[\"Breed\"] == \"MIXED\")])) #Length\n",
    "print(my_df2[(my_df2[\"Color\"] == \"BROWN\") | (my_df2[\"Breed\"] == \"MIXED\")][\"DogName\"]) #Return a specific column"
   ]
  },
  {
   "cell_type": "markdown",
   "metadata": {},
   "source": [
    "# Reset Index"
   ]
  },
  {
   "cell_type": "code",
   "execution_count": 31,
   "metadata": {},
   "outputs": [
    {
     "name": "stdout",
     "output_type": "stream",
     "text": [
      "                 Breed  Adopted        Color  DogName  OwnerZip  Gender Frame\n",
      "0             COCKAPOO     True        BROWN  CHARLEY     15236    Male  Dog1\n",
      "1         GER SHEPHERD     True  BLACK/BROWN   TACODA     15238    Male  Dog1\n",
      "2        BELG MALINOIS     True      BRINDLE     EICH     15238  Female  Dog1\n",
      "3                MIXED     True  BLACK/BROWN    ARROW     15104    Male  Dog1\n",
      "4  AM PIT BULL TERRIER     True  WHITE/BROWN   OAKLEY     15139  Female  Dog1\n",
      "                     Breed  Adopted        Color  DogName  OwnerZip  Gender\n",
      "Frame                                                                      \n",
      "Dog1              COCKAPOO     True        BROWN  CHARLEY     15236    Male\n",
      "Dog1          GER SHEPHERD     True  BLACK/BROWN   TACODA     15238    Male\n",
      "Dog1         BELG MALINOIS     True      BRINDLE     EICH     15238  Female\n",
      "Dog1                 MIXED     True  BLACK/BROWN    ARROW     15104    Male\n",
      "Dog1   AM PIT BULL TERRIER     True  WHITE/BROWN   OAKLEY     15139  Female\n",
      "  Frame                Breed  Adopted        Color  DogName  OwnerZip  Gender\n",
      "0  Dog1             COCKAPOO     True        BROWN  CHARLEY     15236    Male\n",
      "1  Dog1         GER SHEPHERD     True  BLACK/BROWN   TACODA     15238    Male\n",
      "2  Dog1        BELG MALINOIS     True      BRINDLE     EICH     15238  Female\n",
      "3  Dog1                MIXED     True  BLACK/BROWN    ARROW     15104    Male\n",
      "4  Dog1  AM PIT BULL TERRIER     True  WHITE/BROWN   OAKLEY     15139  Female\n",
      "                 Breed  Adopted        Color  DogName  OwnerZip  Gender\n",
      "0             COCKAPOO     True        BROWN  CHARLEY     15236    Male\n",
      "1         GER SHEPHERD     True  BLACK/BROWN   TACODA     15238    Male\n",
      "2        BELG MALINOIS     True      BRINDLE     EICH     15238  Female\n",
      "3                MIXED     True  BLACK/BROWN    ARROW     15104    Male\n",
      "4  AM PIT BULL TERRIER     True  WHITE/BROWN   OAKLEY     15139  Female\n"
     ]
    }
   ],
   "source": [
    "my_df3[\"Frame\"] = [\"Dog1\", \"Dog1\", \"Dog1\", \"Dog1\", \"Dog1\"]\n",
    "print(my_df3)\n",
    "my_df3.set_index(\"Frame\", inplace=True) #set the index to frame\n",
    "print(my_df3)\n",
    "my_df3.reset_index(inplace=True)\n",
    "print(my_df3)\n",
    "my_df3.drop(\"Frame\", axis=1, inplace=True)\n",
    "print(my_df3)"
   ]
  }
 ],
 "metadata": {
  "kernelspec": {
   "display_name": "phase1",
   "language": "python",
   "name": "python3"
  },
  "language_info": {
   "codemirror_mode": {
    "name": "ipython",
    "version": 3
   },
   "file_extension": ".py",
   "mimetype": "text/x-python",
   "name": "python",
   "nbconvert_exporter": "python",
   "pygments_lexer": "ipython3",
   "version": "3.12.5"
  }
 },
 "nbformat": 4,
 "nbformat_minor": 2
}
