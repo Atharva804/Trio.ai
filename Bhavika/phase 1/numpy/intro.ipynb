{
 "cells": [
  {
   "cell_type": "code",
   "execution_count": 12,
   "metadata": {},
   "outputs": [
    {
     "name": "stdout",
     "output_type": "stream",
     "text": [
      "1\n",
      "['hello', 1, 2, True, [1, 2, 3, 4, 5]]\n",
      "[5 6 7 8 9]\n",
      "(5,)\n",
      "[0 1 2 3 4 5 6 7 8 9]\n",
      "[0 2 4 6 8]\n",
      "[0. 0. 0. 0. 0. 0. 0. 0. 0. 0.]\n",
      "[[0. 0. 0. 0. 0. 0. 0. 0. 0. 0.]\n",
      " [0. 0. 0. 0. 0. 0. 0. 0. 0. 0.]]\n",
      "[6 6 6 6 6 6 6 6 6 6]\n",
      "[[6 6 6 6 6 6 6 6 6 6]\n",
      " [6 6 6 6 6 6 6 6 6 6]]\n",
      "[4 5 6 7]\n",
      "4\n"
     ]
    }
   ],
   "source": [
    "import numpy as np\n",
    "list = [1,2,3,4,5]\n",
    "print(list[0])\n",
    "list1= ['hello',1,2,True,list]\n",
    "print(list1)\n",
    "np1= np.array([5,6,7,8,9])\n",
    "print(np1)\n",
    "print(np1.shape)\n",
    "#range\n",
    "np2=np.arange(10)\n",
    "print(np2)\n",
    "#step\n",
    "np3=np.arange(0,10,2)\n",
    "print(np3)\n",
    "#zeros\n",
    "np4 = np.zeros(10)\n",
    "print(np4)\n",
    "#multidimensional zeros\n",
    "np5 = np.zeros((2,10))\n",
    "print(np5)\n",
    "#full\n",
    "np6 = np.full((10),6)\n",
    "print(np6)\n",
    "#multidimensional full\n",
    "np7 = np.full((2,10),6)\n",
    "print(np7)\n",
    "#convert list to numpy\n",
    "list3 = [4,5,6,7]\n",
    "np8 = np.array(list3)\n",
    "print(np8)\n",
    "print(np8[0])"
   ]
  },
  {
   "cell_type": "code",
   "execution_count": null,
   "metadata": {},
   "outputs": [],
   "source": []
  }
 ],
 "metadata": {
  "kernelspec": {
   "display_name": "base",
   "language": "python",
   "name": "python3"
  },
  "language_info": {
   "codemirror_mode": {
    "name": "ipython",
    "version": 3
   },
   "file_extension": ".py",
   "mimetype": "text/x-python",
   "name": "python",
   "nbconvert_exporter": "python",
   "pygments_lexer": "ipython3",
   "version": "3.12.4"
  }
 },
 "nbformat": 4,
 "nbformat_minor": 2
}
