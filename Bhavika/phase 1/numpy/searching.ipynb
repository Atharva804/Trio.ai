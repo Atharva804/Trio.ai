{
 "cells": [
  {
   "cell_type": "code",
   "execution_count": 3,
   "metadata": {},
   "outputs": [
    {
     "name": "stdout",
     "output_type": "stream",
     "text": [
      "[ 2 10]\n",
      "[3 3]\n",
      "[1 3 5 7 9]\n",
      "[ 2  4  6  8 10]\n",
      "[ 0  2  4  6  8 10]\n",
      "[1 3 5 7 9 3]\n"
     ]
    }
   ],
   "source": [
    "import numpy as np\n",
    "np1=np.array([1,2,3,4,5,6,7,8,9,10,3])\n",
    "x=np.where(np1 == 3)\n",
    "print(x[0])\n",
    "print(np1[x[0]])\n",
    "y=np.where(np1%2 == 0)\n",
    "print(y[0])\n",
    "print(np1[y[0]])\n",
    "z=np.where(np1 % 2 != 0)\n",
    "print(z[0])\n",
    "print(np1[z[0]])"
   ]
  },
  {
   "cell_type": "code",
   "execution_count": null,
   "metadata": {},
   "outputs": [],
   "source": []
  }
 ],
 "metadata": {
  "kernelspec": {
   "display_name": "base",
   "language": "python",
   "name": "python3"
  },
  "language_info": {
   "codemirror_mode": {
    "name": "ipython",
    "version": 3
   },
   "file_extension": ".py",
   "mimetype": "text/x-python",
   "name": "python",
   "nbconvert_exporter": "python",
   "pygments_lexer": "ipython3",
   "version": "3.12.4"
  }
 },
 "nbformat": 4,
 "nbformat_minor": 2
}
