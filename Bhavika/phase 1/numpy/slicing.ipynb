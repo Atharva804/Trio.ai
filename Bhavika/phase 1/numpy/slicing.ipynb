{
 "cells": [
  {
   "cell_type": "code",
   "execution_count": 2,
   "metadata": {},
   "outputs": [
    {
     "name": "stdout",
     "output_type": "stream",
     "text": [
      "[2 3 4 5 6]\n",
      "[4 5 6 7 8 9]\n",
      "[7 8]\n",
      "[2 4]\n",
      "[1 4 7]\n",
      "8\n",
      "[[1 2 3]]\n",
      "[[2 3]\n",
      " [7 8]]\n"
     ]
    }
   ],
   "source": [
    "import numpy as np\n",
    "np1 = np.array([1,2,3,4,5,6,7,8,9])\n",
    "# PRINT 2,3,4,5\n",
    "print(np1[1:6])\n",
    "#print from something till end\n",
    "print(np1[3:])\n",
    "#from back 7,8\n",
    "print(np1[-3:-1])\n",
    "#steps\n",
    "print(np1[1:5:2])\n",
    "print(np1[::3])\n",
    "#2-D slicing\n",
    "np2 = np.array([[1,2,3,4,5],[6,7,8,9,10]])\n",
    "#pulling an element\n",
    "print(np2[1,2])\n",
    "print(np2[0:1,0:3])\n",
    "print(np2[0:2,1:3])\n"
   ]
  },
  {
   "cell_type": "code",
   "execution_count": null,
   "metadata": {},
   "outputs": [],
   "source": []
  }
 ],
 "metadata": {
  "kernelspec": {
   "display_name": "base",
   "language": "python",
   "name": "python3"
  },
  "language_info": {
   "codemirror_mode": {
    "name": "ipython",
    "version": 3
   },
   "file_extension": ".py",
   "mimetype": "text/x-python",
   "name": "python",
   "nbconvert_exporter": "python",
   "pygments_lexer": "ipython3",
   "version": "3.12.4"
  }
 },
 "nbformat": 4,
 "nbformat_minor": 2
}
