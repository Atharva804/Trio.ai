{
 "cells": [
  {
   "cell_type": "code",
   "execution_count": 2,
   "metadata": {},
   "outputs": [
    {
     "name": "stdout",
     "output_type": "stream",
     "text": [
      "[7 2 4 1]\n",
      "[1 2 4 7]\n"
     ]
    }
   ],
   "source": [
    "import numpy  as np\n",
    "np1=np.array([7,2,4,1])\n",
    "np2=np.sort(np1)\n",
    "print(np1)\n",
    "print(np2)"
   ]
  },
  {
   "cell_type": "code",
   "execution_count": 5,
   "metadata": {},
   "outputs": [
    {
     "name": "stdout",
     "output_type": "stream",
     "text": [
      "['aaron' 'zed' 'bhavika' 'john']\n",
      "['aaron' 'bhavika' 'john' 'zed']\n",
      "[ True False  True False]\n",
      "[False False  True  True]\n"
     ]
    }
   ],
   "source": [
    "np3 = np.array([\"aaron\",\"zed\",\"bhavika\",\"john\"])\n",
    "print(np3)\n",
    "print(np.sort(np3))\n",
    "np4=np.array([True,False,True,False])\n",
    "print(np4)\n",
    "print(np.sort(np4))"
   ]
  },
  {
   "cell_type": "code",
   "execution_count": 6,
   "metadata": {},
   "outputs": [
    {
     "name": "stdout",
     "output_type": "stream",
     "text": [
      "[[1 8 4 9]\n",
      " [6 4 7 2]]\n",
      "[[1 4 8 9]\n",
      " [2 4 6 7]]\n"
     ]
    }
   ],
   "source": [
    "np5=np.array([[1,8,4,9],[6,4,7,2]])\n",
    "print(np5)\n",
    "print(np.sort(np5))"
   ]
  },
  {
   "cell_type": "code",
   "execution_count": null,
   "metadata": {},
   "outputs": [],
   "source": []
  }
 ],
 "metadata": {
  "kernelspec": {
   "display_name": "base",
   "language": "python",
   "name": "python3"
  },
  "language_info": {
   "codemirror_mode": {
    "name": "ipython",
    "version": 3
   },
   "file_extension": ".py",
   "mimetype": "text/x-python",
   "name": "python",
   "nbconvert_exporter": "python",
   "pygments_lexer": "ipython3",
   "version": "3.12.4"
  }
 },
 "nbformat": 4,
 "nbformat_minor": 2
}
