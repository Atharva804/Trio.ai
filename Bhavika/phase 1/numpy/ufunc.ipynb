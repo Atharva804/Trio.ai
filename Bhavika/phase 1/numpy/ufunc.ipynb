{
 "cells": [
  {
   "cell_type": "code",
   "execution_count": 4,
   "metadata": {},
   "outputs": [
    {
     "name": "stdout",
     "output_type": "stream",
     "text": [
      "[-3 -2 -1  0  1  2  3  4  5  6  7  8  9]\n",
      "[       nan        nan        nan 0.         1.         1.41421356\n",
      " 1.73205081 2.         2.23606798 2.44948974 2.64575131 2.82842712\n",
      " 3.        ]\n",
      "[3 2 1 0 1 2 3 4 5 6 7 8 9]\n",
      "[-0.14112001 -0.90929743 -0.84147098  0.          0.84147098  0.90929743\n",
      "  0.14112001 -0.7568025  -0.95892427 -0.2794155   0.6569866   0.98935825\n",
      "  0.41211849]\n",
      "[       nan        nan        nan       -inf 0.         0.69314718\n",
      " 1.09861229 1.38629436 1.60943791 1.79175947 1.94591015 2.07944154\n",
      " 2.19722458]\n",
      "[4.97870684e-02 1.35335283e-01 3.67879441e-01 1.00000000e+00\n",
      " 2.71828183e+00 7.38905610e+00 2.00855369e+01 5.45981500e+01\n",
      " 1.48413159e+02 4.03428793e+02 1.09663316e+03 2.98095799e+03\n",
      " 8.10308393e+03]\n",
      "9\n",
      "-3\n",
      "[-1 -1 -1  0  1  1  1  1  1  1  1  1  1]\n"
     ]
    },
    {
     "name": "stderr",
     "output_type": "stream",
     "text": [
      "C:\\Users\\Bhavika\\AppData\\Local\\Temp\\ipykernel_12796\\626191994.py:6: RuntimeWarning: invalid value encountered in sqrt\n",
      "  print(np.sqrt(np1))\n",
      "C:\\Users\\Bhavika\\AppData\\Local\\Temp\\ipykernel_12796\\626191994.py:15: RuntimeWarning: divide by zero encountered in log\n",
      "  print(np.log(np1))\n",
      "C:\\Users\\Bhavika\\AppData\\Local\\Temp\\ipykernel_12796\\626191994.py:15: RuntimeWarning: invalid value encountered in log\n",
      "  print(np.log(np1))\n"
     ]
    }
   ],
   "source": [
    "import numpy  as np\n",
    "np1 = np.array([-3,-2,-1,0,1,2,3,4,5,6,7,8,9])\n",
    "print(np1)\n",
    "\n",
    "#sqrt\n",
    "print(np.sqrt(np1))\n",
    "\n",
    "#absolute\n",
    "print(np.absolute(np1))\n",
    "\n",
    "#sin\n",
    "print(np.sin(np1))\n",
    "\n",
    "#log\n",
    "print(np.log(np1))\n",
    "\n",
    "#expotential\n",
    "print(np.exp(np1))\n",
    "\n",
    "#min and max\n",
    "print(np.max(np1))\n",
    "print(np.min(np1))\n",
    "#sign\n",
    "print(np.sign(np1))"
   ]
  },
  {
   "cell_type": "code",
   "execution_count": null,
   "metadata": {},
   "outputs": [],
   "source": []
  }
 ],
 "metadata": {
  "kernelspec": {
   "display_name": "base",
   "language": "python",
   "name": "python3"
  },
  "language_info": {
   "codemirror_mode": {
    "name": "ipython",
    "version": 3
   },
   "file_extension": ".py",
   "mimetype": "text/x-python",
   "name": "python",
   "nbconvert_exporter": "python",
   "pygments_lexer": "ipython3",
   "version": "3.12.4"
  }
 },
 "nbformat": 4,
 "nbformat_minor": 2
}
