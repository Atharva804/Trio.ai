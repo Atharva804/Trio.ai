{
 "cells": [
  {
   "cell_type": "code",
   "execution_count": 4,
   "metadata": {},
   "outputs": [
    {
     "data": {
      "text/plain": [
       "0     5\n",
       "1     9\n",
       "2    12\n",
       "3    23\n",
       "dtype: int64"
      ]
     },
     "execution_count": 4,
     "metadata": {},
     "output_type": "execute_result"
    }
   ],
   "source": [
    "import numpy as np\n",
    "import pandas as pd\n",
    "\n",
    "my_series=[5,9,12,23]\n",
    "my_var=pd.Series(my_series)\n",
    "my_var\n"
   ]
  },
  {
   "cell_type": "code",
   "execution_count": 14,
   "metadata": {},
   "outputs": [
    {
     "name": "stdout",
     "output_type": "stream",
     "text": [
      "a     5\n",
      "b     9\n",
      "c    12\n",
      "z    23\n",
      "dtype: int64\n",
      "12\n"
     ]
    }
   ],
   "source": [
    "#labels using index\n",
    "my_index=['a','b','c','z']\n",
    "my_var1=pd.Series(my_series,my_index)\n",
    "print(my_var1)\n",
    "print(my_var1['c'])"
   ]
  },
  {
   "cell_type": "code",
   "execution_count": 15,
   "metadata": {},
   "outputs": [
    {
     "name": "stdout",
     "output_type": "stream",
     "text": [
      "paper     10\n",
      "pen       19\n",
      "pencil    23\n",
      "dtype: int64\n",
      "10\n"
     ]
    }
   ],
   "source": [
    "obj={\"paper\":10,\"pen\":19,\"pencil\":23}\n",
    "var=pd.Series(obj)\n",
    "print(var)\n",
    "print(var[\"paper\"])"
   ]
  },
  {
   "cell_type": "code",
   "execution_count": null,
   "metadata": {},
   "outputs": [],
   "source": []
  }
 ],
 "metadata": {
  "kernelspec": {
   "display_name": "base",
   "language": "python",
   "name": "python3"
  },
  "language_info": {
   "codemirror_mode": {
    "name": "ipython",
    "version": 3
   },
   "file_extension": ".py",
   "mimetype": "text/x-python",
   "name": "python",
   "nbconvert_exporter": "python",
   "pygments_lexer": "ipython3",
   "version": "3.12.4"
  }
 },
 "nbformat": 4,
 "nbformat_minor": 2
}
